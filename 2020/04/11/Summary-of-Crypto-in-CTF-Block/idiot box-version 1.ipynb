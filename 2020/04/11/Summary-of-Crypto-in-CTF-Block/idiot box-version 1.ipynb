{
 "cells": [
  {
   "cell_type": "code",
   "execution_count": 1,
   "metadata": {},
   "outputs": [],
   "source": [
    "import itertools\n",
    "from tqdm import tqdm\n",
    "from binascii import hexlify, unhexlify\n",
    "import Crypto.Random.random as random\n",
    "from Crypto.Util.number import bytes_to_long, long_to_bytes"
   ]
  },
  {
   "cell_type": "code",
   "execution_count": 3,
   "metadata": {},
   "outputs": [],
   "source": [
    "key = 0x31c7112c5238\n",
    "sbox = []\n",
    "pbox = []\n",
    "keys = []\n",
    "pc_key = [2, 13, 16, 37, 34, 32, 21, 29, 15, 25, 44, 42, 18, 35, 5, 38, 39, 12, 30, 11, 7, 20,\n",
    "          17, 22, 14, 10, 26, 1, 33, 46, 45, 6, 40, 41, 43, 24, 9, 47, 4, 0, 19, 28, 27, 3, 31, 36, 8, 23]"
   ]
  },
  {
   "cell_type": "code",
   "execution_count": 157,
   "metadata": {},
   "outputs": [],
   "source": [
    "def gen_box():\n",
    "    global sbox, pbox\n",
    "    sbox = []\n",
    "    for i in range(8):\n",
    "        sbox_i = []\n",
    "        _ = list(range(16))\n",
    "        for j in range(4):\n",
    "            random.shuffle(_)\n",
    "            sbox_i += _\n",
    "        sbox.append(sbox_i)\n",
    "    pbox = list(range(32))\n",
    "    while True:\n",
    "        random.shuffle(pbox)\n",
    "        branch = 0\n",
    "        for i in range(0, 32, 4):\n",
    "            for j in range(i, i + 4):\n",
    "                if not i <= pbox[j] < i + 4:\n",
    "                    branch += 1\n",
    "        if branch >= 24:\n",
    "            break\n",
    "\n",
    "def gen_key(key):\n",
    "    global keys\n",
    "    key_bin = bin(key)[2:].rjust(48, '0')\n",
    "    for i in range(6):\n",
    "        key_bin = ''.join([key_bin[pc_key[j]] for j in range(48)])\n",
    "        sub_key = int(key_bin, 2)\n",
    "        keys.append(sub_key)"
   ]
  },
  {
   "cell_type": "code",
   "execution_count": 53,
   "metadata": {},
   "outputs": [],
   "source": [
    "def s(x, i):\n",
    "    row = ((x & 0b100000) >> 4) + (x & 1)\n",
    "    col = (x & 0b011110) >> 1\n",
    "    return sbox[i][(row << 4) + col]\n",
    "\n",
    "def p(x):\n",
    "    x_bin = [int(_) for _ in bin(x)[2:].rjust(32, '0')]\n",
    "    y_bin = [x_bin[pbox[i]] for i in range(32)]\n",
    "    y = int(''.join([str(_) for _ in y_bin]), 2)\n",
    "    return y\n",
    "\n",
    "def e(x):\n",
    "    x_bin = bin(x)[2:].rjust(32, '0')\n",
    "    y_bin = ''\n",
    "    idx = -1\n",
    "    for i in range(8):\n",
    "        for j in range(idx, idx + 6):\n",
    "            y_bin += x_bin[j % 32]\n",
    "        idx += 4\n",
    "    return int(y_bin, 2)\n",
    "\n",
    "def F(x, k):\n",
    "    x_in = bin(e(x) ^ k)[2:].rjust(48, '0')\n",
    "    y_out = ''\n",
    "    for i in range(0, 48, 6):\n",
    "        x_in_i = int(x_in[i:i+6], 2)\n",
    "        y_out += bin(s(x_in_i, i // 6))[2:].rjust(4, '0')\n",
    "    y_out = int(y_out, 2)\n",
    "    y = p(y_out)\n",
    "    return y\n",
    "\n",
    "def enc_block(x):\n",
    "    x_bin = bin(x)[2:].rjust(64, '0')\n",
    "    l, r = int(x_bin[:32], 2), int(x_bin[32:], 2)\n",
    "    for i in range(6):\n",
    "        l, r = r, l ^ F(r, keys[i])\n",
    "    y = (l + (r << 32)) & ((1 << 64) - 1)\n",
    "    return y\n",
    "\n",
    "def enc(pt):\n",
    "    pad_len = (8 - len(pt) % 8) % 8\n",
    "    pt += b'\\x00' * pad_len\n",
    "    ct = b''\n",
    "    for i in range(0, len(pt), 8):\n",
    "        ct_block = long_to_bytes(\n",
    "            enc_block(bytes_to_long(pt[i:i+8]))).rjust(8, b'\\x00')\n",
    "        ct += ct_block\n",
    "    return ct"
   ]
  },
  {
   "cell_type": "code",
   "execution_count": 54,
   "metadata": {},
   "outputs": [],
   "source": [
    "# Differential distribution\n",
    "def gen_dif_dist():\n",
    "    global dif_dist\n",
    "    dif_dist = []\n",
    "    keys = list(itertools.product(range(64), repeat=2))\n",
    "    for i in range(8):\n",
    "        dif_dist_i = dict()\n",
    "        for key in keys:\n",
    "            dif_dist_i[key] = 0\n",
    "        for (x, x_ast) in keys:\n",
    "            x_dif = (x ^ x_ast) & 0b111111\n",
    "            y_dif = (s(x, i) ^ s(x_ast, i)) & 0b1111\n",
    "            dif_dist_i[(x_dif, y_dif)] += 1\n",
    "        dif_dist.append(dif_dist_i)"
   ]
  },
  {
   "cell_type": "code",
   "execution_count": 14,
   "metadata": {},
   "outputs": [],
   "source": [
    "# 2-round iterative differential feature (sbox[i]~sbox[j])\n",
    "def find_path(pre, i, j):\n",
    "    global dif_dist\n",
    "    sub_pro = 1\n",
    "    max_pro = sub_pro\n",
    "    cur_path, path = None, []\n",
    "    for key in dif_dist[i].keys():\n",
    "        if key[1] == 0 and ((key[0] & 0b110000) >> 4) == (pre & 0b000011):\n",
    "            if i == j and (key[0] & 0b000011) != 0:\n",
    "                continue\n",
    "            value = dif_dist[i][key]\n",
    "            if value % 64 == 0:\n",
    "                continue\n",
    "            if i < j:\n",
    "                path, sub_pro = find_path(key[0], i + 1, j)\n",
    "            if value * sub_pro > max_pro:\n",
    "                max_pro = value * sub_pro\n",
    "                cur_path = [key[0]] + path\n",
    "    if not cur_path:\n",
    "        return None, 0\n",
    "    else:\n",
    "        return cur_path, max_pro"
   ]
  },
  {
   "cell_type": "code",
   "execution_count": 15,
   "metadata": {},
   "outputs": [],
   "source": [
    "def inv_e(x_in):\n",
    "    x_in = bin(x_in)[2:].rjust(48, '0')\n",
    "    x = ''\n",
    "    for i in range(0, 48, 6):\n",
    "        x += x_in[i+1:i+5]\n",
    "    x = int(x, 2)\n",
    "    return x"
   ]
  },
  {
   "cell_type": "code",
   "execution_count": 16,
   "metadata": {},
   "outputs": [],
   "source": [
    "def input_dif(path, left, right):\n",
    "    x_in = ''\n",
    "    for i in range(2):\n",
    "        x_in += bin(path[i])[2:].rjust(6, '0')\n",
    "    x_in = '0' * left * 6 + x_in + '0' * (7 - right) * 6\n",
    "    x = inv_e(int(x_in, 2))\n",
    "    return (x << 32)"
   ]
  },
  {
   "cell_type": "code",
   "execution_count": 22,
   "metadata": {
    "tags": []
   },
   "outputs": [],
   "source": [
    "def filter_pair(pt_dif, left, right):\n",
    "    filt = hex(pt_dif)[2:].rjust(16, '0')[:8]\n",
    "    cts = []\n",
    "    i_shift = 60 - right * 4\n",
    "    j_shift = (i_shift - 3) % 32 + 32\n",
    "    k_shift = (i_shift + 4 * (right - left + 1)) % 32 + 32\n",
    "    for i in tqdm(range(2**(4*(right-left+1)))):\n",
    "        for j in range(2**3):\n",
    "            for k in range(2**3):\n",
    "                pt = (i << i_shift) + (j << j_shift) + (k << k_shift)\n",
    "                pt_ast = pt ^ pt_dif\n",
    "                ct = enc_block(pt)\n",
    "                ct_ast = enc_block(pt_ast)\n",
    "                ct_dif = ct ^ ct_ast\n",
    "                if hex(ct_dif)[2:].rjust(16, '0')[8:] == filt:\n",
    "                    cts.append((ct, ct_ast))\n",
    "    return cts"
   ]
  },
  {
   "cell_type": "code",
   "execution_count": 166,
   "metadata": {
    "tags": []
   },
   "outputs": [],
   "source": [
    "# Find satisfied dif-features\n",
    "def gen_features(left, right):\n",
    "    global sbox, pbox, dif_dist\n",
    "    max_pro = 0\n",
    "    while max_pro < 192: # find suitable sbox\n",
    "        gen_box()\n",
    "        gen_dif_dist()\n",
    "        _, pro = find_path(0b000000, left, right)\n",
    "        if pro > max_pro:\n",
    "            print(pro)\n",
    "            max_pro = pro\n",
    "            path = _\n",
    "            sbox_sat = sbox\n",
    "            pbox_sat = pbox\n",
    "            dif_dist_sat = dif_dist\n",
    "    print((path, max_pro))\n",
    "    sbox, pbox, dif_dist = sbox_sat, pbox_sat, dif_dist_sat\n",
    "    pt_dif = input_dif(path, left, right)\n",
    "    # print(hex(pt_dif)[2:].rjust(16, '0'))\n",
    "    cts = filter_pair(pt_dif, left, right)\n",
    "    return cts, (64**(right-left+1))/max_pro"
   ]
  },
  {
   "cell_type": "code",
   "execution_count": 181,
   "metadata": {
    "tags": []
   },
   "outputs": [],
   "source": [
    "def crack_part_key(cts, left, right, m):\n",
    "    key_num = 2**(6*(right-left+1))\n",
    "    sub_key = [0] * key_num\n",
    "    if len(cts) > m:\n",
    "        cts = cts[len(cts)//2-m//2:len(cts)//2+m//2]\n",
    "    for (ct, ct_ast) in tqdm(cts):\n",
    "        ctl = ct >> 32\n",
    "        ctr = ct & ((1 << 32) - 1)\n",
    "        ctl_ast = ct_ast >> 32\n",
    "        ctr_ast = ct_ast & ((1 << 32) - 1)\n",
    "        for i in range(key_num):\n",
    "            pro_key = i << (42 - 6 * right)\n",
    "            if (F(ctr, pro_key) ^ F(ctr_ast, pro_key) ^ ctl ^ ctl_ast) == 0:\n",
    "                sub_key[i] += 1\n",
    "    corr_num = max(sub_key)\n",
    "    pro_part_key = []\n",
    "    for i in range(key_num):\n",
    "        if sub_key[i] == corr_num:\n",
    "            pro_part_key.append(i)\n",
    "    return pro_part_key"
   ]
  },
  {
   "cell_type": "code",
   "execution_count": 27,
   "metadata": {},
   "outputs": [],
   "source": [
    "def crack_key():\n",
    "    pro_key = []\n",
    "    for left in range(0, 8, 2):\n",
    "        cts, max_pro = gen_features(left, left + 1)\n",
    "        c = 40\n",
    "        m = c * int(max_pro)\n",
    "        pro_part_key = crack_part_key(cts, left, left + 1, m)\n",
    "        pro_key.append(pro_part_key)\n",
    "    return pro_key"
   ]
  },
  {
   "cell_type": "code",
   "execution_count": 29,
   "metadata": {},
   "outputs": [],
   "source": [
    "gen_key(key)"
   ]
  },
  {
   "cell_type": "code",
   "execution_count": 182,
   "metadata": {
    "tags": []
   },
   "outputs": [
    {
     "output_type": "stream",
     "name": "stdout",
     "text": "72\n84\n100\n112\n  1%|          | 3/256 [00:00<00:09, 28.10it/s]192\n([11, 60], 192)\n100%|██████████| 256/256 [00:09<00:00, 27.57it/s]\n100%|██████████| 32/32 [00:12<00:00,  2.63it/s]\n48\n60\n64\n80\n100\n112\n120\n176\n  1%|          | 3/256 [00:00<00:08, 28.37it/s]192\n([11, 60], 192)\n100%|██████████| 256/256 [00:09<00:00, 28.12it/s]\n100%|██████████| 16/16 [00:05<00:00,  2.81it/s]\n24\n80\n112\n140\n  1%|          | 3/256 [00:00<00:08, 29.48it/s]216\n([7, 60], 216)\n100%|██████████| 256/256 [00:08<00:00, 28.56it/s]\n100%|██████████| 92/92 [00:32<00:00,  2.80it/s]\n64\n80\n96\n120\n128\n144\n168\n  1%|          | 3/256 [00:00<00:08, 28.91it/s]224\n([3, 60], 224)\n100%|██████████| 256/256 [00:09<00:00, 28.40it/s]\n100%|██████████| 38/38 [00:13<00:00,  2.81it/s]\n"
    }
   ],
   "source": [
    "pro_key = crack_key()"
   ]
  },
  {
   "cell_type": "code",
   "execution_count": 183,
   "metadata": {
    "tags": []
   },
   "outputs": [
    {
     "output_type": "stream",
     "name": "stdout",
     "text": "[[150, 170, 598, 618], [156, 160, 604, 608], [665, 677, 857, 869], [342, 362, 406, 426]]\n"
    }
   ],
   "source": [
    "print(pro_key)"
   ]
  },
  {
   "cell_type": "code",
   "execution_count": 184,
   "metadata": {},
   "outputs": [
    {
     "output_type": "execute_result",
     "data": {
      "text/plain": "'0aa25c2a51aa'"
     },
     "metadata": {},
     "execution_count": 184
    }
   ],
   "source": [
    "hex(keys[-1])[2:].rjust(12, '0')"
   ]
  },
  {
   "cell_type": "code",
   "execution_count": 185,
   "metadata": {},
   "outputs": [],
   "source": [
    "inv_pc_key = [pc_key.index(i) for i in range(48)]"
   ]
  },
  {
   "cell_type": "code",
   "execution_count": 170,
   "metadata": {},
   "outputs": [],
   "source": [
    "# sub_key(bin_str) has 48-bits\n",
    "def dec_block(y, sub_key):\n",
    "    y_bin = bin(y)[2:].rjust(64, '0')\n",
    "    l, r = int(y_bin[:32], 2), int(y_bin[32:], 2)\n",
    "    for i in range(6):\n",
    "        l, r = r, l ^ F(r, int(sub_key, 2))\n",
    "        sub_key = ''.join([sub_key[inv_pc_key[j]] for j in range(48)])\n",
    "    x = (l + (r << 32)) & ((1 << 64) - 1)\n",
    "    return x"
   ]
  },
  {
   "cell_type": "code",
   "execution_count": 171,
   "metadata": {},
   "outputs": [],
   "source": [
    "def dec(ct, sub_key):\n",
    "    assert(len(ct) % 8 == 0)\n",
    "    pt = b''\n",
    "    for i in range(0, len(ct), 8):\n",
    "        pt_block = long_to_bytes(dec_block(bytes_to_long(ct[i:i+8]), sub_key)).rjust(8, b'\\x00')\n",
    "        pt += pt_block\n",
    "    return pt"
   ]
  },
  {
   "cell_type": "code",
   "execution_count": 186,
   "metadata": {},
   "outputs": [],
   "source": [
    "sub_key = list(itertools.product(pro_key[0], pro_key[1], pro_key[2], pro_key[3]))"
   ]
  },
  {
   "cell_type": "code",
   "execution_count": 187,
   "metadata": {
    "tags": []
   },
   "outputs": [],
   "source": [
    "for i in range(len(sub_key)):\n",
    "    sk = 0\n",
    "    for j in range(4):\n",
    "        sk += (sub_key[i][j] << (36 - 12 * j))\n",
    "    sub_key[i] = bin(sk)[2:].rjust(48, '0')\n"
   ]
  },
  {
   "cell_type": "code",
   "execution_count": 188,
   "metadata": {
    "tags": []
   },
   "outputs": [
    {
     "output_type": "stream",
     "name": "stderr",
     "text": "40%|████      | 103/256 [00:00<00:00, 467.31it/s]b'WMCTF{2_r0und_1T3r@t1v3_D1ffer3n7i4l_f34tur3!!!}'\n\n"
    }
   ],
   "source": [
    "flag = b'WMCTF{2_r0und_1T3r@t1v3_D1ffer3n7i4l_f34tur3!!!}'\n",
    "ct = enc(flag)\n",
    "for sk in tqdm(sub_key):\n",
    "    pt = dec(ct, sk)\n",
    "    if b'WMCTF' in pt:\n",
    "        print(pt)\n",
    "        break"
   ]
  }
 ],
 "metadata": {
  "kernelspec": {
   "display_name": "Python 3",
   "language": "python",
   "name": "python3"
  },
  "language_info": {
   "codemirror_mode": {
    "name": "ipython",
    "version": 3
   },
   "file_extension": ".py",
   "mimetype": "text/x-python",
   "name": "python",
   "nbconvert_exporter": "python",
   "pygments_lexer": "ipython3",
   "version": "3.5.2-candidate"
  }
 },
 "nbformat": 4,
 "nbformat_minor": 2
}